{
 "cells": [
  {
   "cell_type": "code",
   "execution_count": null,
   "id": "05a0a9be",
   "metadata": {},
   "outputs": [],
   "source": [
    "import numpy as np\n",
    "import matplotlib.pyplot as plt\n",
    "from lmfit import Model\n",
    "import json"
   ]
  },
  {
   "cell_type": "code",
   "execution_count": null,
   "id": "b29df0cd",
   "metadata": {},
   "outputs": [],
   "source": [
    "count=0\n",
    "while(count<1000):   #Loop for 1000 fit lined Bootstrap\n",
    "    np.set_printoptions(formatter={'float_kind':'{:f}'.format})  #Displays numbers in decimal form (no E), to help format columns in text file to plot\n",
    "    data=np.loadtxt('F2ratio.dat')   #Call .dat file\n",
    "    newdata=[]       #Create random data set from .dat file\n",
    "    for d in range(len(data)):\n",
    "        a=np.random.randint(0,len(data))\n",
    "        newdata.append(data[a])\n",
    "    str = \"null\"     #Have to delete this variable to get str function to work\n",
    "    del str\n",
    "    string2 = ''.join(str(e) for e in newdata)   #Change to string\n",
    "    with open('BootstrapFit.txt', 'w') as f:     #Create text file to store random data \n",
    "        f.write(string2)\n",
    "    path = 'BootstrapFit.txt'   #This removes characters which do not meet ploting standards\n",
    "    try:\n",
    "        with open(path, 'r') as infile:\n",
    "            info = infile.read().replace('][', '\\n')\n",
    "    except OSError as exception:\n",
    "        print('ERROR: could not read file:')\n",
    "        print('  %s' % exception)\n",
    "    else:\n",
    "        with open(path, 'w') as outfile:\n",
    "            outfile.write(info)\n",
    "    path = 'BootstrapFit.txt'   #This removes characters which do not meet ploting standards\n",
    "    try:\n",
    "        with open(path, 'r') as infile:\n",
    "            info = infile.read().replace('[', '')\n",
    "    except OSError as exception:\n",
    "        print('ERROR: could not read file:')\n",
    "        print('  %s' % exception)\n",
    "    else:\n",
    "        with open(path, 'w') as outfile:\n",
    "            outfile.write(info)\n",
    "    path = 'BootstrapFit.txt'   #This removes characters which do not meet ploting standards\n",
    "    try:\n",
    "        with open(path, 'r') as infile:\n",
    "            info = infile.read().replace(']', '')\n",
    "    except OSError as exception:\n",
    "        print('ERROR: could not read file:')\n",
    "        print('  %s' % exception)\n",
    "    else:\n",
    "        with open(path, 'w') as outfile:\n",
    "            outfile.write(info)\n",
    "    data=np.loadtxt('BootstrapFit.txt')   #Call .txt file\n",
    "    def rational(x,n0,n1,m1):             #Marathon.ipynb file rational definition\n",
    "        return n0*(1+x*n1)/(1+x*m1)\n",
    "    model=Model(rational)                 #Marathon.ipynb file model call\n",
    "    result=model.fit(data[:,3],x=data[:,0],n0=1,n1=0,m1=0,weights=1/data[:,4])   #Marathon.ipynb file result call\n",
    "    valuesaver = json.dumps(result.best_values)   #Changes dict (definition) to string\n",
    "    with open('BestValuesLoop.txt', 'a') as k:    #Appends new data to existing lines in .txt file\n",
    "        k.write(valuesaver)\n",
    "        k.write('\\n')\n",
    "    count +=1\n",
    "else:\n",
    "    print(\"count value reached %d\" %(count))"
   ]
  },
  {
   "cell_type": "markdown",
   "id": "45158be7",
   "metadata": {},
   "source": [
    "Files needed/created by previous cell\n",
    "- need: F2ratio.dat (MARATHON data file)\n",
    "- create: BootstrapFit.txt (stores randomized data created)\n",
    "- create: BestValuesLoop.txt (fit line created from randomized data points is saved here)"
   ]
  },
  {
   "cell_type": "markdown",
   "id": "dc201c78",
   "metadata": {},
   "source": [
    "Cells below allow for easy plotting by copying and pasting the BestValuesLoop.txt document after the specific values have been replaced. Change the fourth cell below for color and line width variations."
   ]
  },
  {
   "cell_type": "code",
   "execution_count": null,
   "id": "9b8b3067",
   "metadata": {},
   "outputs": [],
   "source": [
    "path = 'BestValuesLoop.txt'\n",
    "try:\n",
    "    with open(path, 'r') as infile:\n",
    "        info = infile.read().replace('{\"n0\":', 'plt.plot(x, rational(x, ')\n",
    "except OSError as exception:\n",
    "    print('ERROR: could not read file:')\n",
    "    print('  %s' % exception)\n",
    "else:\n",
    "    with open(path, 'w') as outfile:\n",
    "        outfile.write(info)"
   ]
  },
  {
   "cell_type": "code",
   "execution_count": null,
   "id": "e02cb43e",
   "metadata": {},
   "outputs": [],
   "source": [
    "path = 'BestValuesLoop.txt'\n",
    "try:\n",
    "    with open(path, 'r') as infile:\n",
    "        info = infile.read().replace('\"n1\":', ' ')\n",
    "except OSError as exception:\n",
    "    print('ERROR: could not read file:')\n",
    "    print('  %s' % exception)\n",
    "else:\n",
    "    with open(path, 'w') as outfile:\n",
    "        outfile.write(info)"
   ]
  },
  {
   "cell_type": "code",
   "execution_count": null,
   "id": "5ef60dd7",
   "metadata": {},
   "outputs": [],
   "source": [
    "path = 'BestValuesLoop.txt'\n",
    "try:\n",
    "    with open(path, 'r') as infile:\n",
    "        info = infile.read().replace('\"m1\":', ' ')\n",
    "except OSError as exception:\n",
    "    print('ERROR: could not read file:')\n",
    "    print('  %s' % exception)\n",
    "else:\n",
    "    with open(path, 'w') as outfile:\n",
    "        outfile.write(info)"
   ]
  },
  {
   "cell_type": "code",
   "execution_count": null,
   "id": "3ffe0449",
   "metadata": {},
   "outputs": [],
   "source": [
    "path = 'BestValuesLoop.txt'\n",
    "try:\n",
    "    with open(path, 'r') as infile:\n",
    "        info = infile.read().replace('}', '), \"xkcd:light blue\", linewidth = 0.125)')\n",
    "except OSError as exception:\n",
    "    print('ERROR: could not read file:')\n",
    "    print('  %s' % exception)\n",
    "else:\n",
    "    with open(path, 'w') as outfile:\n",
    "        outfile.write(info)"
   ]
  },
  {
   "cell_type": "markdown",
   "id": "846cf1a9",
   "metadata": {},
   "source": [
    "Cell below plots the Bootstrap Error Band Fit, original fit line, and shaded areas of the extrapolation region in the 0 to 1 range. Simply paste the designated file (BestValuesLoop.txt) where the comment is and run the cell."
   ]
  },
  {
   "cell_type": "code",
   "execution_count": null,
   "id": "f613f7d4",
   "metadata": {},
   "outputs": [],
   "source": [
    "plt.figure(dpi=150)\n",
    "x=np.linspace(0,1,100)\n",
    "\n",
    "#Paste entire BestValuesLoop.txt file here\n",
    "\n",
    "plt.plot(x, rational(x, 1.0157995814083007, 0.362122426538518,  2.5577670730710254), \"b-\", linewidth = 0.4) #Original fit line\n",
    "\n",
    "plt.xlabel('x$_B$',fontsize=17)\n",
    "plt.ylabel('Ratio',fontsize=17)\n",
    "plt.xlim(0,1)\n",
    "plt.ylim(0.35,1)\n",
    "plt.axhspan(ymin=0, ymax=1, xmin=0, xmax=0.1945, facecolor='#ebebeb')\n",
    "plt.axhspan(ymin=0, ymax=1, xmin=0.8255, xmax=1, facecolor='#ebebeb')\n",
    "\n",
    "grey_patch = mpatches.Patch(color='#ebebeb', label='Extrapolation Region')\n",
    "plt.legend(handles=[grey_patch])\n",
    "\n",
    "plt.savefig(\"BootstrapFitExtrapolation\") #Chanage .png file name as seen fit\n",
    "plt.show()"
   ]
  },
  {
   "cell_type": "code",
   "execution_count": null,
   "id": "351da4dc",
   "metadata": {},
   "outputs": [],
   "source": []
  }
 ],
 "metadata": {
  "kernelspec": {
   "display_name": "Python 3",
   "language": "python",
   "name": "python3"
  },
  "language_info": {
   "codemirror_mode": {
    "name": "ipython",
    "version": 3
   },
   "file_extension": ".py",
   "mimetype": "text/x-python",
   "name": "python",
   "nbconvert_exporter": "python",
   "pygments_lexer": "ipython3",
   "version": "3.8.8"
  }
 },
 "nbformat": 4,
 "nbformat_minor": 5
}
